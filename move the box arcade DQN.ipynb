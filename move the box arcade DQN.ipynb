{
 "cells": [
  {
   "cell_type": "code",
   "execution_count": 1,
   "id": "a25cb773-92ba-4285-b1c7-0c2731899d5b",
   "metadata": {},
   "outputs": [],
   "source": [
    "import matplotlib.pyplot as plt\n",
    "import numpy as np\n",
    "from matplotlib.colors import LinearSegmentedColormap"
   ]
  },
  {
   "cell_type": "markdown",
   "id": "04087884-2da8-4406-8e78-e12d10c91d8c",
   "metadata": {},
   "source": [
    "# Notation"
   ]
  },
  {
   "cell_type": "markdown",
   "id": "a694fa66-470b-40f0-bc88-8543958705e6",
   "metadata": {},
   "source": [
    "## bit definitions"
   ]
  },
  {
   "cell_type": "code",
   "execution_count": 2,
   "id": "1180af2a-10d2-4780-8d85-0421b378eae0",
   "metadata": {
    "tags": []
   },
   "outputs": [
    {
     "data": {
      "text/html": [
       "<style>\n",
       "table {float:left}\n",
       "</style>\n"
      ],
      "text/plain": [
       "<IPython.core.display.HTML object>"
      ]
     },
     "metadata": {},
     "output_type": "display_data"
    }
   ],
   "source": [
    "%%html\n",
    "<style>\n",
    "table {float:left}\n",
    "</style>"
   ]
  },
  {
   "cell_type": "markdown",
   "id": "bf49772e-48b6-42d4-9a91-fea77ea9ad69",
   "metadata": {},
   "source": [
    "| box_value | box_name     |\n",
    "|-----------|--------------|\n",
    "| 0         | Empty        |\n",
    "| 1         | BrownWood    |\n",
    "| 2         | RedWood      |\n",
    "| 3         | GreenWood    |\n",
    "| 4         | BrownLeather |\n",
    "| 5         | BrownPaper   |\n",
    "| 6         | BlueSteel    |"
   ]
  },
  {
   "cell_type": "markdown",
   "id": "5de80c4f-0f49-4f94-a3bc-39c93cedc33c",
   "metadata": {},
   "source": [
    "# Environment"
   ]
  },
  {
   "cell_type": "code",
   "execution_count": 3,
   "id": "f50331f6-5161-483e-8c15-1552f76ec948",
   "metadata": {},
   "outputs": [],
   "source": [
    "class Environment:\n",
    "    def __init__(\n",
    "        self,\n",
    "        board_height=9,\n",
    "        board_width=7,\n",
    "        unique_box_type=6,\n",
    "        p_add_3_box=0.77,\n",
    "        debug=False,\n",
    "    ):\n",
    "\n",
    "        # init parameter\n",
    "        self.board_height = board_height\n",
    "        self.board_width = board_width\n",
    "        self.unique_box_type = unique_box_type\n",
    "        self.p_add_3_box = p_add_3_box\n",
    "        self.debug = debug\n",
    "\n",
    "        # init color_map\n",
    "        box_color_map_list = (\n",
    "            np.array(\n",
    "                [\n",
    "                    [255, 255, 255],\n",
    "                    [169, 133, 92],\n",
    "                    [183, 71, 34],\n",
    "                    [156, 164, 52],\n",
    "                    [102, 65, 38],\n",
    "                    [189, 140, 61],\n",
    "                    [149, 165, 168],\n",
    "                ]\n",
    "            )\n",
    "            / 255\n",
    "        )\n",
    "        self.box_color_map = LinearSegmentedColormap.from_list(\n",
    "            \"box_color_map\",\n",
    "            box_color_map_list,\n",
    "            box_color_map_list.shape[0],\n",
    "        )\n",
    "\n",
    "        # init game\n",
    "        self.createBoard()\n",
    "        self.createAboveBoard()\n",
    "        self.addAboveBox()\n",
    "        self.aboveIncludeFall()\n",
    "\n",
    "    def createBoard(self):\n",
    "        self.board = np.zeros(\n",
    "            (self.board_height, self.board_width),\n",
    "            dtype=np.int8,\n",
    "        )\n",
    "\n",
    "    def createAboveBoard(self):\n",
    "        self.above_board = np.zeros(\n",
    "            (1, self.board_width),\n",
    "            dtype=np.int8,\n",
    "        )\n",
    "\n",
    "    def addAboveBox(self):\n",
    "        number_of_box_above = np.random.choice(\n",
    "            [3, 4], p=[self.p_add_3_box, 1 - self.p_add_3_box]\n",
    "        )\n",
    "        box_value = np.random.randint(\n",
    "            low=1,\n",
    "            high=self.unique_box_type + 1,\n",
    "            size=number_of_box_above,\n",
    "            dtype=np.int8,\n",
    "        )\n",
    "        aboveBox = np.zeros(\n",
    "            self.board_width,\n",
    "            dtype=np.int8,\n",
    "        )\n",
    "        aboveBox[:number_of_box_above] = 1\n",
    "        aboveBox[aboveBox == 1] = box_value\n",
    "        np.random.shuffle(aboveBox)\n",
    "        self.above_board = aboveBox.reshape((1, self.board_width))\n",
    "\n",
    "    def aboveIncludeFall(self):\n",
    "        temp_board = np.vstack((self.board, self.above_board)).copy()\n",
    "        temp_board = self.fall(temp_board)\n",
    "        self.above_board = temp_board[-1].reshape((1, self.board_width)).copy()\n",
    "        self.board = temp_board[:-1].copy()\n",
    "        self.addAboveBox()\n",
    "        self.update_board()\n",
    "        if self.check_is_empty_board():\n",
    "            self.aboveIncludeFall()\n",
    "\n",
    "    # game mechanism\n",
    "    def fall(self, temp_board):\n",
    "        temp_board = temp_board.copy()\n",
    "        for y in range(self.board_width):\n",
    "            x = 0\n",
    "            is_fall = False\n",
    "            while x < temp_board.shape[0] - 1:\n",
    "                # skip floor and run loop\n",
    "                x += 1\n",
    "                # check below is empty\n",
    "                if not self.check_is_empty(temp_board[x, y]) and self.check_is_empty(\n",
    "                    temp_board[x - 1, y]\n",
    "                ):\n",
    "                    # fall\n",
    "                    temp_board[x - 1, y] = temp_board[x, y].copy()\n",
    "                    temp_board[x, y] = 0\n",
    "                    is_fall = True\n",
    "                # reset and fall again\n",
    "                if is_fall and (x >= self.board_height):\n",
    "                    x = 0\n",
    "                    is_fall = False\n",
    "        return temp_board\n",
    "\n",
    "    def remove(self, temp_board):\n",
    "        temp_board = temp_board.copy()\n",
    "        if self.debug:\n",
    "            self.displayTempBoard(temp_board)\n",
    "        remove_list = self.check(temp_board)\n",
    "        if self.debug:\n",
    "            print(f\"number of remove box: {len(remove_list)}\")\n",
    "        if len(remove_list) > 0:\n",
    "            for remove_index in remove_list:\n",
    "                temp_board[remove_index[0], remove_index[1]] = 0\n",
    "            temp_board = self.fall(temp_board)\n",
    "            temp_board = self.remove(temp_board)\n",
    "        return temp_board\n",
    "\n",
    "    def check(self, temp_board):\n",
    "        remove_list = []\n",
    "        for x in range(temp_board.shape[0]):\n",
    "            remove_list = remove_list + self.check_row(temp_board, x)\n",
    "\n",
    "        for y in range(temp_board.shape[1]):\n",
    "            remove_list = remove_list + self.check_col(temp_board, y)\n",
    "        return remove_list\n",
    "\n",
    "    def check_row(self, temp_board, x):\n",
    "        count = 1\n",
    "        last_found = temp_board[x, 0]\n",
    "        remove_list = []\n",
    "        is_change = False\n",
    "\n",
    "        for y in range(1, temp_board.shape[1]):\n",
    "            if self.debug:\n",
    "                if x == 0:\n",
    "                    print(f\"y : {y}\")\n",
    "                    print(f\"last_found : {last_found}\")\n",
    "                    print(f\"temp_board[x, y] : {temp_board[x, y]}\")\n",
    "            if self.check_is_same_color(last_found, temp_board[x, y]):\n",
    "                if self.check_is_empty(temp_board[x, y]):\n",
    "                    continue\n",
    "                else:\n",
    "                    count += 1\n",
    "                    # end check index\n",
    "                    if y >= temp_board.shape[1] - 1:\n",
    "                        is_change = True\n",
    "            else:\n",
    "                last_found = temp_board[x, y]\n",
    "                is_change = True\n",
    "\n",
    "            if is_change:\n",
    "                if not self.check_is_empty(temp_board[x, y - 1]):\n",
    "                    if count >= 3:\n",
    "                        for i in range(count):\n",
    "                            remove_index = np.array([x, y - i - 1])\n",
    "                            remove_list.append(remove_index)\n",
    "                count = 1\n",
    "                is_change = False\n",
    "        return remove_list\n",
    "\n",
    "    def check_col(self, temp_board, y):\n",
    "        count = 1\n",
    "        last_found = temp_board[0, y]\n",
    "        remove_list = []\n",
    "        is_change = False\n",
    "        for x in range(1, temp_board.shape[0]):\n",
    "            if self.check_is_same_color(last_found, temp_board[x, y]):\n",
    "                if self.check_is_empty(temp_board[x, y]):\n",
    "                    continue\n",
    "                else:\n",
    "                    count += 1\n",
    "                    # end check index\n",
    "                    if x >= temp_board.shape[0] - 1:\n",
    "                        is_change = True\n",
    "            else:\n",
    "                last_found = temp_board[x, y]\n",
    "                is_change = True\n",
    "            if is_change:\n",
    "                if not self.check_is_empty(temp_board[x - 1, y]):\n",
    "                    if count >= 3:\n",
    "                        for i in range(count):\n",
    "                            remove_index = np.array([x - i - 1, y])\n",
    "                            remove_list.append(remove_index)\n",
    "                count = 1\n",
    "                is_change = False\n",
    "        return remove_list\n",
    "\n",
    "    # utility\n",
    "    def displayBoard(self):\n",
    "        # create virtual board\n",
    "        temp_board = np.vstack((self.board, self.above_board)).copy()\n",
    "        # plot virtual board\n",
    "        fig = plt.figure(figsize=(3.5, 4.5))\n",
    "        ax = fig.add_subplot(111)\n",
    "        ax.pcolor(\n",
    "            temp_board,\n",
    "            cmap=self.box_color_map,\n",
    "            vmin=0,\n",
    "            vmax=self.unique_box_type,\n",
    "            edgecolors=\"k\",\n",
    "            linewidth=2,\n",
    "        )\n",
    "        xticks_label = np.arange(0, self.board_width, 1)\n",
    "        yticks_label = np.arange(0, self.board_height + 1, 1)\n",
    "        # centering of call\n",
    "        ax.set_xticks(xticks_label + 0.5, minor=False)\n",
    "        ax.set_yticks(yticks_label + 0.5, minor=False)\n",
    "        # label\n",
    "        yticks_label = yticks_label.astype(np.str)\n",
    "        yticks_label[-1] = \"above\"\n",
    "        ax.set_xticklabels(xticks_label)\n",
    "        ax.set_yticklabels(yticks_label)\n",
    "        plt.show()\n",
    "\n",
    "    def displayTempBoard(self, temp_board):\n",
    "        # create virtual board\n",
    "        temp_board = temp_board.copy()\n",
    "        # plot virtual board\n",
    "        fig = plt.figure(figsize=(3.5, 4.5))\n",
    "        ax = fig.add_subplot(111)\n",
    "        ax.pcolor(\n",
    "            temp_board,\n",
    "            cmap=self.box_color_map,\n",
    "            vmin=0,\n",
    "            vmax=self.unique_box_type,\n",
    "            edgecolors=\"k\",\n",
    "            linewidth=2,\n",
    "        )\n",
    "        xticks_label = np.arange(0, self.board_width, 1)\n",
    "        yticks_label = np.arange(0, self.board_height, 1)\n",
    "        # centering of call\n",
    "        ax.set_xticks(xticks_label + 0.5, minor=False)\n",
    "        ax.set_yticks(yticks_label + 0.5, minor=False)\n",
    "        # label\n",
    "        ax.set_xticklabels(xticks_label)\n",
    "        ax.set_yticklabels(yticks_label)\n",
    "        plt.show()\n",
    "\n",
    "    def check_is_empty(self, box):\n",
    "        return box == 0\n",
    "\n",
    "    def check_is_same_color(self, box1, box2):\n",
    "        return box1 == box2\n",
    "\n",
    "    def check_is_empty_board(self):\n",
    "        return (self.board == 0).all()\n",
    "\n",
    "    # action\n",
    "    def findAllMove(self):\n",
    "        all_move_index = []\n",
    "        row_arange = np.arange(0, self.board_height, 1)\n",
    "        col_arange = np.arange(0, self.board_width, 1)\n",
    "        row_index, col_index = np.meshgrid(row_arange, col_arange)\n",
    "        point_index = np.vstack((row_index.reshape(-1), col_index.reshape(-1))).T\n",
    "\n",
    "        for index in point_index:\n",
    "\n",
    "            if index[1] < self.board_width - 1:\n",
    "                # move_right\n",
    "                move_right_index = np.array([index, index + np.array([0, 1])])\n",
    "                all_move_index.append(move_right_index)\n",
    "\n",
    "            if index[0] < self.board_height - 1:\n",
    "                # move_up\n",
    "                move_up_index = np.array([index, index + np.array([1, 0])])\n",
    "                all_move_index.append(move_up_index)\n",
    "\n",
    "        return np.array(all_move_index)\n",
    "\n",
    "    def findNotDuplicateMove(self):\n",
    "        all_move_index = self.findAllMove()\n",
    "\n",
    "        not_duplicate_move_index = []\n",
    "        for move_index in all_move_index:\n",
    "            point_a_index = move_index[0]\n",
    "            point_a_value = self.board[point_a_index[0], point_a_index[1]]\n",
    "\n",
    "            point_b_index = move_index[1]\n",
    "            point_b_value = self.board[point_b_index[0], point_b_index[1]]\n",
    "\n",
    "            if not self.check_is_same_color(point_a_value, point_b_value):\n",
    "                not_duplicate_move_index.append(move_index)\n",
    "\n",
    "        return np.array(not_duplicate_move_index)\n",
    "\n",
    "    def move(self, move_index):\n",
    "        # collect value\n",
    "        point_a_index = move_index[0]\n",
    "        point_a_value = self.board[point_a_index[0], point_a_index[1]].copy()\n",
    "\n",
    "        point_b_index = move_index[1]\n",
    "        point_b_value = self.board[point_b_index[0], point_b_index[1]].copy()\n",
    "\n",
    "        # move\n",
    "        self.board[point_a_index[0], point_a_index[1]] = point_b_value\n",
    "        self.board[point_b_index[0], point_b_index[1]] = point_a_value\n",
    "        self.update_board()\n",
    "        self.aboveIncludeFall()\n",
    "\n",
    "    def update_board(self):\n",
    "        temp_board = self.board.copy()\n",
    "        temp_board = self.fall(temp_board)\n",
    "        temp_board = self.remove(temp_board)\n",
    "        self.board = temp_board.copy()"
   ]
  },
  {
   "cell_type": "code",
   "execution_count": 4,
   "id": "0a442e6d-7776-4907-ad93-3647b5d067b6",
   "metadata": {},
   "outputs": [],
   "source": [
    "np.random.seed(1)"
   ]
  },
  {
   "cell_type": "code",
   "execution_count": 5,
   "id": "714f73d8-1da3-4336-93b3-422a081392d4",
   "metadata": {},
   "outputs": [],
   "source": [
    "env = Environment(\n",
    "    unique_box_type=2,\n",
    ")"
   ]
  },
  {
   "cell_type": "code",
   "execution_count": 6,
   "id": "23653ac3-7130-4dd4-a6ce-9a7a62a0747f",
   "metadata": {},
   "outputs": [
    {
     "data": {
      "image/png": "[encoded data removed]",
      "text/plain": [
       "<Figure size 252x324 with 1 Axes>"
      ]
     },
     "metadata": {
      "needs_background": "light"
     },
     "output_type": "display_data"
    }
   ],
   "source": [
    "env.displayBoard()"
   ]
  },
  {
   "cell_type": "code",
   "execution_count": 7,
   "id": "1ad79fed-b957-40ef-b8ed-85827839b8b2",
   "metadata": {},
   "outputs": [],
   "source": [
    "move_index = env.findNotDuplicateMove()"
   ]
  },
  {
   "cell_type": "code",
   "execution_count": 8,
   "id": "206bc64f-96fb-4f13-991a-0e0c7d9b21bc",
   "metadata": {},
   "outputs": [],
   "source": [
    "env.move(move_index[0])"
   ]
  },
  {
   "cell_type": "code",
   "execution_count": 9,
   "id": "4ae250b6-3965-4e25-a9ff-0323987967c0",
   "metadata": {},
   "outputs": [
    {
     "data": {
      "image/png": "[encoded data removed]",
      "text/plain": [
       "<Figure size 252x324 with 1 Axes>"
      ]
     },
     "metadata": {
      "needs_background": "light"
     },
     "output_type": "display_data"
    }
   ],
   "source": [
    "env.displayBoard()"
   ]
  },
  {
   "cell_type": "code",
   "execution_count": 10,
   "id": "3e8c9de2-a9a5-4c26-b54a-11dab5de8430",
   "metadata": {
    "tags": []
   },
   "outputs": [],
   "source": [
    "move_index = env.findNotDuplicateMove()"
   ]
  },
  {
   "cell_type": "code",
   "execution_count": 11,
   "id": "74df28c2-cc7d-49cd-9096-e0e3c664257d",
   "metadata": {},
   "outputs": [],
   "source": [
    "env.move(move_index[6])"
   ]
  },
  {
   "cell_type": "code",
   "execution_count": 12,
   "id": "b0675764-ed27-4f91-b39c-9c1fa2662e84",
   "metadata": {},
   "outputs": [
    {
     "data": {
      "image/png": "[encoded data removed]",
      "text/plain": [
       "<Figure size 252x324 with 1 Axes>"
      ]
     },
     "metadata": {
      "needs_background": "light"
     },
     "output_type": "display_data"
    }
   ],
   "source": [
    "env.displayBoard()"
   ]
  },
  {
   "cell_type": "code",
   "execution_count": 13,
   "id": "65c28473-8b44-4e0f-b606-90393fd22210",
   "metadata": {},
   "outputs": [],
   "source": [
    "move_index = env.findNotDuplicateMove()"
   ]
  },
  {
   "cell_type": "code",
   "execution_count": 14,
   "id": "e0eb412e-e730-400b-927c-99d48a29009b",
   "metadata": {},
   "outputs": [],
   "source": [
    "env.move(move_index[0])"
   ]
  },
  {
   "cell_type": "code",
   "execution_count": 15,
   "id": "7135fafa-f1a0-4023-8722-d0a48ccd65b3",
   "metadata": {},
   "outputs": [
    {
     "data": {
      "image/png": "[encoded data removed]",
      "text/plain": [
       "<Figure size 252x324 with 1 Axes>"
      ]
     },
     "metadata": {
      "needs_background": "light"
     },
     "output_type": "display_data"
    }
   ],
   "source": [
    "env.displayBoard()"
   ]
  },
  {
   "cell_type": "code",
   "execution_count": 16,
   "id": "d38b119a-8afd-47f5-a60a-a6c8b880fc41",
   "metadata": {},
   "outputs": [],
   "source": [
    "move_index = env.findNotDuplicateMove()"
   ]
  },
  {
   "cell_type": "code",
   "execution_count": 17,
   "id": "323e3387-91dd-4b0e-bcf9-dcf229d7acca",
   "metadata": {},
   "outputs": [],
   "source": [
    "env.move(move_index[0])"
   ]
  },
  {
   "cell_type": "code",
   "execution_count": 18,
   "id": "ab5cd5e6-2277-4966-aff5-f496c589ba36",
   "metadata": {},
   "outputs": [
    {
     "data": {
      "image/png": "[encoded data removed]",
      "text/plain": [
       "<Figure size 252x324 with 1 Axes>"
      ]
     },
     "metadata": {
      "needs_background": "light"
     },
     "output_type": "display_data"
    }
   ],
   "source": [
    "env.displayBoard()"
   ]
  },
  {
   "cell_type": "code",
   "execution_count": 19,
   "id": "a9d3183f-0786-4ea8-81e6-8b9f58801330",
   "metadata": {},
   "outputs": [],
   "source": [
    "move_index = env.findNotDuplicateMove()"
   ]
  },
  {
   "cell_type": "code",
   "execution_count": 20,
   "id": "c8652d5e-0bb1-4caa-9148-2900506ca8fa",
   "metadata": {},
   "outputs": [],
   "source": [
    "env.move(move_index[0])"
   ]
  },
  {
   "cell_type": "code",
   "execution_count": 21,
   "id": "c60c7d07-5a5f-49f5-bd1a-e932ec887742",
   "metadata": {},
   "outputs": [
    {
     "data": {
      "image/png": "[encoded data removed]",
      "text/plain": [
       "<Figure size 252x324 with 1 Axes>"
      ]
     },
     "metadata": {
      "needs_background": "light"
     },
     "output_type": "display_data"
    }
   ],
   "source": [
    "env.displayBoard()"
   ]
  },
  {
   "cell_type": "code",
   "execution_count": 22,
   "id": "0b214333-8c43-4873-8110-36f445829443",
   "metadata": {},
   "outputs": [],
   "source": [
    "move_index = env.findNotDuplicateMove()"
   ]
  },
  {
   "cell_type": "code",
   "execution_count": 23,
   "id": "50e7602d-f25b-4386-9870-92dc30746eed",
   "metadata": {},
   "outputs": [],
   "source": [
    "env.move(move_index[0])"
   ]
  },
  {
   "cell_type": "code",
   "execution_count": 24,
   "id": "f4e7c832-339d-4181-a846-964b4dfc2ecb",
   "metadata": {},
   "outputs": [
    {
     "data": {
      "image/png": "[encoded data removed]",
      "text/plain": [
       "<Figure size 252x324 with 1 Axes>"
      ]
     },
     "metadata": {
      "needs_background": "light"
     },
     "output_type": "display_data"
    }
   ],
   "source": [
    "env.displayBoard()"
   ]
  },
  {
   "cell_type": "code",
   "execution_count": 25,
   "id": "f45989be-733f-4575-acde-f897f3b4b210",
   "metadata": {},
   "outputs": [],
   "source": [
    "move_index = env.findNotDuplicateMove()"
   ]
  },
  {
   "cell_type": "code",
   "execution_count": 26,
   "id": "66e6c31c-48ed-4e15-ab36-2d40bf689ad4",
   "metadata": {},
   "outputs": [],
   "source": [
    "env.move(move_index[0])"
   ]
  },
  {
   "cell_type": "code",
   "execution_count": 27,
   "id": "ad5be593-2f9d-42bf-ae61-316793d16c89",
   "metadata": {},
   "outputs": [
    {
     "data": {
      "image/png": "[encoded data removed]",
      "text/plain": [
       "<Figure size 252x324 with 1 Axes>"
      ]
     },
     "metadata": {
      "needs_background": "light"
     },
     "output_type": "display_data"
    }
   ],
   "source": [
    "env.displayBoard()"
   ]
  },
  {
   "cell_type": "code",
   "execution_count": 28,
   "id": "5e5d960e-8918-4671-9a16-65467c3a557f",
   "metadata": {},
   "outputs": [],
   "source": [
    "move_index = env.findNotDuplicateMove()"
   ]
  },
  {
   "cell_type": "code",
   "execution_count": 29,
   "id": "d4643d5d-f9af-4696-b084-2649bd122d52",
   "metadata": {},
   "outputs": [],
   "source": [
    "env.move(move_index[0])"
   ]
  },
  {
   "cell_type": "code",
   "execution_count": 30,
   "id": "3624ad44-4249-4d7c-8769-0c442829a29e",
   "metadata": {},
   "outputs": [
    {
     "data": {
      "image/png": "[encoded data removed]",
      "text/plain": [
       "<Figure size 252x324 with 1 Axes>"
      ]
     },
     "metadata": {
      "needs_background": "light"
     },
     "output_type": "display_data"
    }
   ],
   "source": [
    "env.displayBoard()"
   ]
  },
  {
   "cell_type": "code",
   "execution_count": 31,
   "id": "2424b28b-ccaa-42e9-870f-8c9113eddac4",
   "metadata": {},
   "outputs": [],
   "source": [
    "move_index = env.findNotDuplicateMove()"
   ]
  },
  {
   "cell_type": "code",
   "execution_count": 32,
   "id": "0bd620da-e2a3-4caa-9e65-a967f1b55bec",
   "metadata": {},
   "outputs": [],
   "source": [
    "env.move(move_index[0])"
   ]
  },
  {
   "cell_type": "code",
   "execution_count": 33,
   "id": "578a3682-d833-4972-a4bf-8856b89d532a",
   "metadata": {},
   "outputs": [
    {
     "data": {
      "image/png": "[encoded data removed]",
      "text/plain": [
       "<Figure size 252x324 with 1 Axes>"
      ]
     },
     "metadata": {
      "needs_background": "light"
     },
     "output_type": "display_data"
    }
   ],
   "source": [
    "env.displayBoard()"
   ]
  },
  {
   "cell_type": "code",
   "execution_count": 34,
   "id": "d52252c0-a18a-4f21-8116-a5e0630aa13e",
   "metadata": {},
   "outputs": [],
   "source": [
    "move_index = env.findNotDuplicateMove()"
   ]
  },
  {
   "cell_type": "code",
   "execution_count": 35,
   "id": "b3af1552-1123-4de7-9c40-0403e7d8d2e7",
   "metadata": {},
   "outputs": [],
   "source": [
    "env.move(move_index[0])"
   ]
  },
  {
   "cell_type": "code",
   "execution_count": 36,
   "id": "49cc002a-bee3-40f6-8fb9-2ade3b7ffbd4",
   "metadata": {},
   "outputs": [
    {
     "data": {
      "image/png": "[encoded data removed]",
      "text/plain": [
       "<Figure size 252x324 with 1 Axes>"
      ]
     },
     "metadata": {
      "needs_background": "light"
     },
     "output_type": "display_data"
    }
   ],
   "source": [
    "env.displayBoard()"
   ]
  },
  {
   "cell_type": "code",
   "execution_count": 37,
   "id": "464b6850-a47e-4e7b-908f-7e9f31ae2b74",
   "metadata": {},
   "outputs": [],
   "source": [
    "move_index = env.findNotDuplicateMove()"
   ]
  },
  {
   "cell_type": "code",
   "execution_count": 38,
   "id": "756d29c0-1843-43fe-b806-3f7c3108f186",
   "metadata": {},
   "outputs": [],
   "source": [
    "env.move(move_index[0])"
   ]
  },
  {
   "cell_type": "code",
   "execution_count": 39,
   "id": "ce3792ed-2760-4b35-97da-468bebb38a77",
   "metadata": {},
   "outputs": [
    {
     "data": {
      "image/png": "[encoded data removed]",
      "text/plain": [
       "<Figure size 252x324 with 1 Axes>"
      ]
     },
     "metadata": {
      "needs_background": "light"
     },
     "output_type": "display_data"
    }
   ],
   "source": [
    "env.displayBoard()"
   ]
  },
  {
   "cell_type": "code",
   "execution_count": 40,
   "id": "e1fb902b-f13c-4a59-aee1-9f10487595f4",
   "metadata": {},
   "outputs": [],
   "source": [
    "move_index = env.findNotDuplicateMove()"
   ]
  },
  {
   "cell_type": "code",
   "execution_count": 41,
   "id": "a1a74935-5b2f-4103-a43b-18fcc54e4f65",
   "metadata": {},
   "outputs": [],
   "source": [
    "env.move(move_index[0])"
   ]
  },
  {
   "cell_type": "code",
   "execution_count": 42,
   "id": "e824d938-29ea-44a6-8694-376d70c0e855",
   "metadata": {},
   "outputs": [
    {
     "data": {
      "image/png": "[encoded data removed]",
      "text/plain": [
       "<Figure size 252x324 with 1 Axes>"
      ]
     },
     "metadata": {
      "needs_background": "light"
     },
     "output_type": "display_data"
    }
   ],
   "source": [
    "env.displayBoard()"
   ]
  },
  {
   "cell_type": "code",
   "execution_count": 43,
   "id": "c0ca41fc-a363-4b33-b26e-6adb12e286aa",
   "metadata": {},
   "outputs": [],
   "source": [
    "move_index = env.findNotDuplicateMove()"
   ]
  },
  {
   "cell_type": "code",
   "execution_count": 44,
   "id": "d5966236-9040-438c-be62-64bf505e2560",
   "metadata": {},
   "outputs": [],
   "source": [
    "env.move(move_index[0])"
   ]
  },
  {
   "cell_type": "code",
   "execution_count": 45,
   "id": "8ba86942-f265-4811-9eb6-421cb9a870f6",
   "metadata": {},
   "outputs": [
    {
     "data": {
      "image/png": "[encoded data removed]",
      "text/plain": [
       "<Figure size 252x324 with 1 Axes>"
      ]
     },
     "metadata": {
      "needs_background": "light"
     },
     "output_type": "display_data"
    }
   ],
   "source": [
    "env.displayBoard()"
   ]
  },
  {
   "cell_type": "code",
   "execution_count": 46,
   "id": "3a81bf37-bb4a-40c2-9666-6494cec94378",
   "metadata": {},
   "outputs": [],
   "source": [
    "move_index = env.findNotDuplicateMove()"
   ]
  },
  {
   "cell_type": "code",
   "execution_count": 47,
   "id": "d903fd2a-bedc-439c-9619-707742d73f1d",
   "metadata": {},
   "outputs": [],
   "source": [
    "env.move(move_index[0])"
   ]
  },
  {
   "cell_type": "code",
   "execution_count": 48,
   "id": "ec023c59-66f8-4574-acee-d4bd5d875db9",
   "metadata": {},
   "outputs": [
    {
     "data": {
      "image/png": "[encoded data removed]",
      "text/plain": [
       "<Figure size 252x324 with 1 Axes>"
      ]
     },
     "metadata": {
      "needs_background": "light"
     },
     "output_type": "display_data"
    }
   ],
   "source": [
    "env.displayBoard()"
   ]
  },
  {
   "cell_type": "code",
   "execution_count": null,
   "id": "da408142-2eff-4156-a6c6-6d30424a53e0",
   "metadata": {},
   "outputs": [],
   "source": []
  }
 ],
 "metadata": {
  "kernelspec": {
   "display_name": "Python 3",
   "language": "python",
   "name": "python3"
  },
  "language_info": {
   "codemirror_mode": {
    "name": "ipython",
    "version": 3
   },
   "file_extension": ".py",
   "mimetype": "text/x-python",
   "name": "python",
   "nbconvert_exporter": "python",
   "pygments_lexer": "ipython3",
   "version": "3.8.10"
  }
 },
 "nbformat": 4,
 "nbformat_minor": 5
}
